{
  "cells": [
    {
      "cell_type": "markdown",
      "metadata": {
        "id": "view-in-github",
        "colab_type": "text"
      },
      "source": [
        "<a href=\"https://colab.research.google.com/github/saicharan-02/pyspark/blob/main/Welcome_To_Colab.ipynb\" target=\"_parent\"><img src=\"https://colab.research.google.com/assets/colab-badge.svg\" alt=\"Open In Colab\"/></a>"
      ]
    },
    {
      "cell_type": "code",
      "source": [
        "pip install pyspark hive databricks"
      ],
      "metadata": {
        "collapsed": true,
        "id": "1CPCA9D2kzog",
        "outputId": "f60447c0-45d7-486a-c033-b7f6217f83b2",
        "colab": {
          "base_uri": "https://localhost:8080/"
        }
      },
      "execution_count": 2,
      "outputs": [
        {
          "output_type": "stream",
          "name": "stdout",
          "text": [
            "Collecting pyspark\n",
            "  Using cached pyspark-3.5.2.tar.gz (317.3 MB)\n",
            "  Preparing metadata (setup.py) ... \u001b[?25l\u001b[?25hdone\n",
            "Collecting hive\n",
            "  Using cached hive-0.1.3dev.tar.gz (39 kB)\n",
            "  Preparing metadata (setup.py) ... \u001b[?25l\u001b[?25hdone\n",
            "Collecting databricks\n",
            "  Downloading databricks-0.2-py2.py3-none-any.whl.metadata (172 bytes)\n",
            "Requirement already satisfied: py4j==0.10.9.7 in /usr/local/lib/python3.10/dist-packages (from pyspark) (0.10.9.7)\n",
            "Collecting Pylons>=1.0 (from hive)\n",
            "  Downloading Pylons-1.0.3-py2.py3-none-any.whl.metadata (3.7 kB)\n",
            "Requirement already satisfied: Jinja2 in /usr/local/lib/python3.10/dist-packages (from hive) (3.1.4)\n",
            "Collecting Routes>=1.12.3 (from Pylons>=1.0->hive)\n",
            "  Downloading Routes-2.5.1-py2.py3-none-any.whl.metadata (25 kB)\n",
            "Collecting WebHelpers>=0.6.4 (from Pylons>=1.0->hive)\n",
            "  Downloading WebHelpers-1.3.tar.gz (729 kB)\n",
            "\u001b[2K     \u001b[90m━━━━━━━━━━━━━━━━━━━━━━━━━━━━━━━━━━━━━━━━\u001b[0m \u001b[32m730.0/730.0 kB\u001b[0m \u001b[31m36.6 MB/s\u001b[0m eta \u001b[36m0:00:00\u001b[0m\n",
            "\u001b[?25h  Preparing metadata (setup.py) ... \u001b[?25l\u001b[?25hdone\n",
            "Collecting Beaker>=1.5.4 (from Pylons>=1.0->hive)\n",
            "  Downloading Beaker-1.13.0.tar.gz (68 kB)\n",
            "\u001b[2K     \u001b[90m━━━━━━━━━━━━━━━━━━━━━━━━━━━━━━━━━━━━━━━━\u001b[0m \u001b[32m68.2/68.2 kB\u001b[0m \u001b[31m6.3 MB/s\u001b[0m eta \u001b[36m0:00:00\u001b[0m\n",
            "\u001b[?25h  Preparing metadata (setup.py) ... \u001b[?25l\u001b[?25hdone\n",
            "Collecting Paste>=1.7.5.1 (from Pylons>=1.0->hive)\n",
            "  Using cached Paste-3.10.1-py3-none-any.whl.metadata (5.3 kB)\n",
            "Collecting PasteDeploy>=1.5.0 (from Pylons>=1.0->hive)\n",
            "  Using cached PasteDeploy-3.1.0-py3-none-any.whl.metadata (2.7 kB)\n",
            "Collecting PasteScript>=1.7.4.2 (from Pylons>=1.0->hive)\n",
            "  Using cached PasteScript-3.6.0-py2.py3-none-any.whl.metadata (2.8 kB)\n",
            "Collecting FormEncode>=1.2.4 (from Pylons>=1.0->hive)\n",
            "  Downloading FormEncode-2.1.0-py3-none-any.whl.metadata (2.6 kB)\n",
            "Collecting simplejson>=2.2.1 (from Pylons>=1.0->hive)\n",
            "  Downloading simplejson-3.19.3-cp310-cp310-manylinux_2_5_x86_64.manylinux1_x86_64.manylinux_2_17_x86_64.manylinux2014_x86_64.whl.metadata (3.2 kB)\n",
            "Requirement already satisfied: decorator>=3.3.2 in /usr/local/lib/python3.10/dist-packages (from Pylons>=1.0->hive) (4.4.2)\n",
            "Collecting nose>=1.1.2 (from Pylons>=1.0->hive)\n",
            "  Downloading nose-1.3.7-py3-none-any.whl.metadata (1.7 kB)\n",
            "Collecting Mako>=0.5.0 (from Pylons>=1.0->hive)\n",
            "  Downloading Mako-1.3.5-py3-none-any.whl.metadata (2.9 kB)\n",
            "Collecting WebError>=0.10.3 (from Pylons>=1.0->hive)\n",
            "  Downloading WebError-0.13.1.tar.gz (85 kB)\n",
            "\u001b[2K     \u001b[90m━━━━━━━━━━━━━━━━━━━━━━━━━━━━━━━━━━━━━━━━\u001b[0m \u001b[32m85.9/85.9 kB\u001b[0m \u001b[31m7.3 MB/s\u001b[0m eta \u001b[36m0:00:00\u001b[0m\n",
            "\u001b[?25h  Preparing metadata (setup.py) ... \u001b[?25l\u001b[?25hdone\n",
            "Collecting WebTest>=1.3.1 (from Pylons>=1.0->hive)\n",
            "  Downloading WebTest-3.0.0-py3-none-any.whl.metadata (1.8 kB)\n",
            "Collecting Tempita>=0.5.1 (from Pylons>=1.0->hive)\n",
            "  Downloading Tempita-0.5.2-py3-none-any.whl.metadata (1.0 kB)\n",
            "Requirement already satisfied: MarkupSafe>=0.15 in /usr/local/lib/python3.10/dist-packages (from Pylons>=1.0->hive) (2.1.5)\n",
            "Collecting WebOb>=1.1.1 (from Pylons>=1.0->hive)\n",
            "  Downloading WebOb-1.8.8-py2.py3-none-any.whl.metadata (11 kB)\n",
            "Requirement already satisfied: setuptools in /usr/local/lib/python3.10/dist-packages (from Paste>=1.7.5.1->Pylons>=1.0->hive) (71.0.4)\n",
            "Requirement already satisfied: six in /usr/local/lib/python3.10/dist-packages (from Routes>=1.12.3->Pylons>=1.0->hive) (1.16.0)\n",
            "Collecting repoze.lru>=0.3 (from Routes>=1.12.3->Pylons>=1.0->hive)\n",
            "  Downloading repoze.lru-0.7-py3-none-any.whl.metadata (1.1 kB)\n",
            "Requirement already satisfied: Pygments in /usr/local/lib/python3.10/dist-packages (from WebError>=0.10.3->Pylons>=1.0->hive) (2.16.1)\n",
            "Collecting waitress>=0.8.5 (from WebTest>=1.3.1->Pylons>=1.0->hive)\n",
            "  Downloading waitress-3.0.0-py3-none-any.whl.metadata (4.2 kB)\n",
            "Requirement already satisfied: beautifulsoup4 in /usr/local/lib/python3.10/dist-packages (from WebTest>=1.3.1->Pylons>=1.0->hive) (4.12.3)\n",
            "Requirement already satisfied: soupsieve>1.2 in /usr/local/lib/python3.10/dist-packages (from beautifulsoup4->WebTest>=1.3.1->Pylons>=1.0->hive) (2.6)\n",
            "Downloading databricks-0.2-py2.py3-none-any.whl (1.2 kB)\n",
            "Downloading Pylons-1.0.3-py2.py3-none-any.whl (147 kB)\n",
            "\u001b[2K   \u001b[90m━━━━━━━━━━━━━━━━━━━━━━━━━━━━━━━━━━━━━━━━\u001b[0m \u001b[32m147.7/147.7 kB\u001b[0m \u001b[31m12.3 MB/s\u001b[0m eta \u001b[36m0:00:00\u001b[0m\n",
            "\u001b[?25hDownloading FormEncode-2.1.0-py3-none-any.whl (179 kB)\n",
            "\u001b[2K   \u001b[90m━━━━━━━━━━━━━━━━━━━━━━━━━━━━━━━━━━━━━━━━\u001b[0m \u001b[32m179.4/179.4 kB\u001b[0m \u001b[31m15.4 MB/s\u001b[0m eta \u001b[36m0:00:00\u001b[0m\n",
            "\u001b[?25hDownloading Mako-1.3.5-py3-none-any.whl (78 kB)\n",
            "\u001b[2K   \u001b[90m━━━━━━━━━━━━━━━━━━━━━━━━━━━━━━━━━━━━━━━━\u001b[0m \u001b[32m78.6/78.6 kB\u001b[0m \u001b[31m6.6 MB/s\u001b[0m eta \u001b[36m0:00:00\u001b[0m\n",
            "\u001b[?25hDownloading nose-1.3.7-py3-none-any.whl (154 kB)\n",
            "\u001b[2K   \u001b[90m━━━━━━━━━━━━━━━━━━━━━━━━━━━━━━━━━━━━━━━━\u001b[0m \u001b[32m154.7/154.7 kB\u001b[0m \u001b[31m14.0 MB/s\u001b[0m eta \u001b[36m0:00:00\u001b[0m\n",
            "\u001b[?25hUsing cached Paste-3.10.1-py3-none-any.whl (289 kB)\n",
            "Using cached PasteDeploy-3.1.0-py3-none-any.whl (16 kB)\n",
            "Using cached PasteScript-3.6.0-py2.py3-none-any.whl (73 kB)\n",
            "Downloading Routes-2.5.1-py2.py3-none-any.whl (40 kB)\n",
            "\u001b[2K   \u001b[90m━━━━━━━━━━━━━━━━━━━━━━━━━━━━━━━━━━━━━━━━\u001b[0m \u001b[32m40.1/40.1 kB\u001b[0m \u001b[31m2.7 MB/s\u001b[0m eta \u001b[36m0:00:00\u001b[0m\n",
            "\u001b[?25hDownloading simplejson-3.19.3-cp310-cp310-manylinux_2_5_x86_64.manylinux1_x86_64.manylinux_2_17_x86_64.manylinux2014_x86_64.whl (137 kB)\n",
            "\u001b[2K   \u001b[90m━━━━━━━━━━━━━━━━━━━━━━━━━━━━━━━━━━━━━━━━\u001b[0m \u001b[32m137.9/137.9 kB\u001b[0m \u001b[31m10.5 MB/s\u001b[0m eta \u001b[36m0:00:00\u001b[0m\n",
            "\u001b[?25hDownloading Tempita-0.5.2-py3-none-any.whl (12 kB)\n",
            "Downloading WebOb-1.8.8-py2.py3-none-any.whl (115 kB)\n",
            "\u001b[2K   \u001b[90m━━━━━━━━━━━━━━━━━━━━━━━━━━━━━━━━━━━━━━━━\u001b[0m \u001b[32m115.3/115.3 kB\u001b[0m \u001b[31m9.4 MB/s\u001b[0m eta \u001b[36m0:00:00\u001b[0m\n",
            "\u001b[?25hDownloading WebTest-3.0.0-py3-none-any.whl (31 kB)\n",
            "Downloading repoze.lru-0.7-py3-none-any.whl (10 kB)\n",
            "Downloading waitress-3.0.0-py3-none-any.whl (56 kB)\n",
            "\u001b[2K   \u001b[90m━━━━━━━━━━━━━━━━━━━━━━━━━━━━━━━━━━━━━━━━\u001b[0m \u001b[32m56.7/56.7 kB\u001b[0m \u001b[31m4.9 MB/s\u001b[0m eta \u001b[36m0:00:00\u001b[0m\n",
            "\u001b[?25hBuilding wheels for collected packages: pyspark, hive, Beaker, WebError, WebHelpers\n",
            "  Building wheel for pyspark (setup.py) ... \u001b[?25l\u001b[?25hdone\n",
            "  Created wheel for pyspark: filename=pyspark-3.5.2-py2.py3-none-any.whl size=317812365 sha256=1914ea31c0f909fdacc165a7f710da38dc3554abd1babeff6e3bb356912b4909\n",
            "  Stored in directory: /root/.cache/pip/wheels/34/34/bd/03944534c44b677cd5859f248090daa9fb27b3c8f8e5f49574\n",
            "  Building wheel for hive (setup.py) ... \u001b[?25l\u001b[?25hdone\n",
            "  Created wheel for hive: filename=hive-0.1.3.dev0-py3-none-any.whl size=51203 sha256=274eea703783060cc2585f9b859cbc55bf1e90bf24460d21342c90b721452ed4\n",
            "  Stored in directory: /root/.cache/pip/wheels/de/82/29/b79d6d56a73a355372dc7252f581b61fe7a79c4196064e5a5e\n",
            "  Building wheel for Beaker (setup.py) ... \u001b[?25l\u001b[?25hdone\n",
            "  Created wheel for Beaker: filename=Beaker-1.13.0-py3-none-any.whl size=53009 sha256=a3bdfc0e265f3354b805ad1bef59249372d33798f6cc8251c421f12c6a366884\n",
            "  Stored in directory: /root/.cache/pip/wheels/5d/02/3e/a86d83c4a7eb2dae61ad9baeb15641763742394ad70fff7ea6\n",
            "  Building wheel for WebError (setup.py) ... \u001b[?25l\u001b[?25hdone\n",
            "  Created wheel for WebError: filename=WebError-0.13.1-py3-none-any.whl size=89411 sha256=9829ae64ffd1aea98cae07fdb2245eb345564c705b53688cf7323baa19ee3361\n",
            "  Stored in directory: /root/.cache/pip/wheels/39/eb/54/21f8f808adf42ecd9c314cc791f59ddca11d90134721a2c33f\n",
            "  Building wheel for WebHelpers (setup.py) ... \u001b[?25l\u001b[?25hdone\n",
            "  Created wheel for WebHelpers: filename=WebHelpers-1.3-py3-none-any.whl size=149022 sha256=ad577d202c415750de6b1951f21d9f40d0fb2c8eb4670fb458ed975b01f9df68\n",
            "  Stored in directory: /root/.cache/pip/wheels/4a/44/46/932d613b343bbd3f7d769d29447b8a00dc251c69b6b91625d9\n",
            "Successfully built pyspark hive Beaker WebError WebHelpers\n",
            "Installing collected packages: Tempita, repoze.lru, nose, databricks, Beaker, WebOb, WebHelpers, waitress, simplejson, Routes, pyspark, PasteDeploy, Paste, Mako, FormEncode, WebTest, WebError, PasteScript, Pylons, hive\n",
            "Successfully installed Beaker-1.13.0 FormEncode-2.1.0 Mako-1.3.5 Paste-3.10.1 PasteDeploy-3.1.0 PasteScript-3.6.0 Pylons-1.0.3 Routes-2.5.1 Tempita-0.5.2 WebError-0.13.1 WebHelpers-1.3 WebOb-1.8.8 WebTest-3.0.0 databricks-0.2 hive-0.1.3.dev0 nose-1.3.7 pyspark-3.5.2 repoze.lru-0.7 simplejson-3.19.3 waitress-3.0.0\n"
          ]
        }
      ]
    },
    {
      "cell_type": "code",
      "source": [
        "from pyspark.sql import SparkSession\n",
        "from pyspark.sql.types import *\n",
        "\n",
        "spark = (\n",
        "    SparkSession\n",
        "    .builder\n",
        "    .appName(\"RDDApp\")\n",
        "    .master(\"local[4]\")\n",
        "    .getOrCreate()\n",
        ")"
      ],
      "metadata": {
        "id": "ak63cXmilHcB"
      },
      "execution_count": 4,
      "outputs": []
    },
    {
      "cell_type": "code",
      "source": [
        "# Create a variable for SparkContext\n",
        "\n",
        "sc = spark.sparkContext"
      ],
      "metadata": {
        "id": "ETZOud9YmCbL"
      },
      "execution_count": 6,
      "outputs": []
    },
    {
      "cell_type": "code",
      "source": [
        "# Create RDD using paralleliza\n",
        "numbersRdd = sc.parallelize([1, 2, 3, 4, 5])"
      ],
      "metadata": {
        "id": "5jdonC_lmW--"
      },
      "execution_count": 7,
      "outputs": []
    },
    {
      "cell_type": "code",
      "source": [
        "numbersRdd.getNumPartitions()"
      ],
      "metadata": {
        "id": "YovsD60xmimD",
        "outputId": "99887be4-db48-4434-eee2-eeb228a98cb6",
        "colab": {
          "base_uri": "https://localhost:8080/"
        }
      },
      "execution_count": 8,
      "outputs": [
        {
          "output_type": "execute_result",
          "data": {
            "text/plain": [
              "4"
            ]
          },
          "metadata": {},
          "execution_count": 8
        }
      ]
    },
    {
      "cell_type": "code",
      "source": [
        "# Get result from RDD\n",
        "output = numbersRdd.collect()\n",
        "print(output)\n",
        "\n",
        "#Get any 2 records from RDD\n",
        "print(numbersRdd.take(2))\n",
        "\n",
        "#Get first record from RDD\n",
        "# first() returns an element, while take(1) returns an array with one element\n",
        "print(numbersRdd.first())"
      ],
      "metadata": {
        "id": "_nqrAWRzmnXz",
        "outputId": "d53b015a-a12b-4315-cc35-7920c1bac69a",
        "colab": {
          "base_uri": "https://localhost:8080/"
        }
      },
      "execution_count": 13,
      "outputs": [
        {
          "output_type": "stream",
          "name": "stdout",
          "text": [
            "[1, 2, 3, 4, 5]\n",
            "[1, 2]\n",
            "1\n"
          ]
        }
      ]
    },
    {
      "cell_type": "code",
      "source": [
        "# Create RDD with complex types\n",
        "\n",
        "employeesRdd = sc.parallelize(\n",
        "    [\n",
        "        [1, 'Neha', 10000],\n",
        "        [2, 'Charan', 20000],\n",
        "        [3, 'Raju', 30000],\n",
        "        [4, 'Priyanka', 40000],\n",
        "        [5, 'Swetha', 50000]\n",
        "    ]\n",
        ")\n",
        "\n",
        "employeesRdd.first()"
      ],
      "metadata": {
        "id": "tVnpsQt_mynL",
        "outputId": "7c7bed04-b16d-4f25-8c22-edfae13b6a9f",
        "colab": {
          "base_uri": "https://localhost:8080/"
        }
      },
      "execution_count": 16,
      "outputs": [
        {
          "output_type": "execute_result",
          "data": {
            "text/plain": [
              "[1, 'Neha', 10000]"
            ]
          },
          "metadata": {},
          "execution_count": 16
        }
      ]
    },
    {
      "cell_type": "code",
      "source": [],
      "metadata": {
        "id": "CdOCRtPenuvM"
      },
      "execution_count": null,
      "outputs": []
    }
  ],
  "metadata": {
    "colab": {
      "name": "Welcome To Colab",
      "provenance": [],
      "include_colab_link": true
    },
    "kernelspec": {
      "display_name": "Python 3",
      "name": "python3"
    }
  },
  "nbformat": 4,
  "nbformat_minor": 0
}